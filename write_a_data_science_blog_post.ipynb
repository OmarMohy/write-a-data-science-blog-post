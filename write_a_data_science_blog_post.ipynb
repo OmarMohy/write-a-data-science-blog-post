{
 "cells": [
  {
   "cell_type": "markdown",
   "metadata": {},
   "source": [
    "## Write a data science blog post Udacity Project"
   ]
  },
  {
   "cell_type": "markdown",
   "metadata": {},
   "source": [
    "Given an online booking platform in a travel agency, a client requests to make a booking, and\n",
    "based on the sales communication, they choose to confirm and pay or not\n",
    "\n",
    "Description of what each variable means:                          \n",
    "1) **request_id, client_id**: ids for a given booking request and a given client (used internally in the system).     \n",
    "2) **confirmed**: the target variable (label), a boolean indicating whether the client has actually confirmed or not.               \n",
    "3) **nation**: country of origin of client                  \n",
    "4) **arrival_date, departure_date**: when a client is expecting to arrive at and depart their destination          \n",
    "5) **num_of_adults, num_of_children**: number of adults and children travelling in the group           \n",
    "6) **price**: the price paid for this request (in case of confirmation)           \n",
    "7) **currency_id**: the currency used for payment (in case of confirmation)             \n",
    "8) **adwords**: a boolean indicating whether this data originated from online advertising         \n",
    "9) **source_id, sub_source_id**: id of origin of request (travel agency website, direct mail, etc..)"
   ]
  },
  {
   "cell_type": "markdown",
   "metadata": {},
   "source": [
    "### CRISP-DM"
   ]
  },
  {
   "cell_type": "markdown",
   "metadata": {},
   "source": [
    "### 1. Business Understanding\n",
    "\n",
    "1. What are the top nationalities that get confirmed requests or makes requests in general?\n",
    "2. Does people like to travel in groups or alone and does it affects client confirmation?\n",
    "3. Does price affects clients confirmation?\n",
    "4. Does duration of travel affects clients confirmation?\n",
    "5. How well can we predict a clients confirmation?"
   ]
  },
  {
   "cell_type": "code",
   "execution_count": 1,
   "metadata": {},
   "outputs": [],
   "source": [
    "import numpy as np\n",
    "import pandas as pd\n",
    "import matplotlib.pyplot as plt\n",
    "import seaborn as sb\n",
    "from matplotlib.pyplot import figure\n",
    "%matplotlib inline\n",
    "sb.set_style(\"darkgrid\")"
   ]
  },
  {
   "cell_type": "code",
   "execution_count": 2,
   "metadata": {},
   "outputs": [
    {
     "data": {
      "text/html": [
       "<div>\n",
       "<style scoped>\n",
       "    .dataframe tbody tr th:only-of-type {\n",
       "        vertical-align: middle;\n",
       "    }\n",
       "\n",
       "    .dataframe tbody tr th {\n",
       "        vertical-align: top;\n",
       "    }\n",
       "\n",
       "    .dataframe thead th {\n",
       "        text-align: right;\n",
       "    }\n",
       "</style>\n",
       "<table border=\"1\" class=\"dataframe\">\n",
       "  <thead>\n",
       "    <tr style=\"text-align: right;\">\n",
       "      <th></th>\n",
       "      <th>request_id</th>\n",
       "      <th>confirmed</th>\n",
       "      <th>client_id</th>\n",
       "      <th>nation</th>\n",
       "      <th>arrival_date</th>\n",
       "      <th>departure_date</th>\n",
       "      <th>num_of_adults</th>\n",
       "      <th>num_of_children</th>\n",
       "      <th>price</th>\n",
       "      <th>currency_id</th>\n",
       "      <th>adwords</th>\n",
       "      <th>source_id</th>\n",
       "      <th>sub_id</th>\n",
       "    </tr>\n",
       "  </thead>\n",
       "  <tbody>\n",
       "    <tr>\n",
       "      <th>948</th>\n",
       "      <td>14048210</td>\n",
       "      <td>0</td>\n",
       "      <td>375379160</td>\n",
       "      <td>United States</td>\n",
       "      <td>2018-08-24</td>\n",
       "      <td>2018-09-02</td>\n",
       "      <td>2.0</td>\n",
       "      <td>NaN</td>\n",
       "      <td>NaN</td>\n",
       "      <td>NaN</td>\n",
       "      <td>0</td>\n",
       "      <td>29.0</td>\n",
       "      <td>0</td>\n",
       "    </tr>\n",
       "    <tr>\n",
       "      <th>286</th>\n",
       "      <td>600747042</td>\n",
       "      <td>1</td>\n",
       "      <td>679099458</td>\n",
       "      <td>United States</td>\n",
       "      <td>2017-03-31</td>\n",
       "      <td>2017-04-08</td>\n",
       "      <td>2.0</td>\n",
       "      <td>NaN</td>\n",
       "      <td>80.0</td>\n",
       "      <td>2.0</td>\n",
       "      <td>1</td>\n",
       "      <td>1.0</td>\n",
       "      <td>39</td>\n",
       "    </tr>\n",
       "    <tr>\n",
       "      <th>871</th>\n",
       "      <td>876447691</td>\n",
       "      <td>0</td>\n",
       "      <td>429656690</td>\n",
       "      <td>Lebanon</td>\n",
       "      <td>2015-09-25</td>\n",
       "      <td>2015-09-30</td>\n",
       "      <td>1.0</td>\n",
       "      <td>NaN</td>\n",
       "      <td>NaN</td>\n",
       "      <td>NaN</td>\n",
       "      <td>0</td>\n",
       "      <td>1.0</td>\n",
       "      <td>0</td>\n",
       "    </tr>\n",
       "    <tr>\n",
       "      <th>764</th>\n",
       "      <td>305074688</td>\n",
       "      <td>0</td>\n",
       "      <td>126549082</td>\n",
       "      <td>United States</td>\n",
       "      <td>2017-04-15</td>\n",
       "      <td>2017-04-15</td>\n",
       "      <td>2.0</td>\n",
       "      <td>1.0</td>\n",
       "      <td>NaN</td>\n",
       "      <td>NaN</td>\n",
       "      <td>0</td>\n",
       "      <td>1.0</td>\n",
       "      <td>0</td>\n",
       "    </tr>\n",
       "    <tr>\n",
       "      <th>933</th>\n",
       "      <td>513898316</td>\n",
       "      <td>1</td>\n",
       "      <td>914879649</td>\n",
       "      <td>United Kingdom</td>\n",
       "      <td>2015-09-09</td>\n",
       "      <td>2015-09-15</td>\n",
       "      <td>2.0</td>\n",
       "      <td>NaN</td>\n",
       "      <td>9.0</td>\n",
       "      <td>4.0</td>\n",
       "      <td>1</td>\n",
       "      <td>1.0</td>\n",
       "      <td>39</td>\n",
       "    </tr>\n",
       "    <tr>\n",
       "      <th>29</th>\n",
       "      <td>424779327</td>\n",
       "      <td>0</td>\n",
       "      <td>831621314</td>\n",
       "      <td>Germany</td>\n",
       "      <td>2016-01-23</td>\n",
       "      <td>2016-01-30</td>\n",
       "      <td>NaN</td>\n",
       "      <td>NaN</td>\n",
       "      <td>NaN</td>\n",
       "      <td>NaN</td>\n",
       "      <td>0</td>\n",
       "      <td>93.0</td>\n",
       "      <td>17</td>\n",
       "    </tr>\n",
       "    <tr>\n",
       "      <th>46</th>\n",
       "      <td>899418575</td>\n",
       "      <td>0</td>\n",
       "      <td>583708263</td>\n",
       "      <td>Australia</td>\n",
       "      <td>2013-09-02</td>\n",
       "      <td>2013-09-16</td>\n",
       "      <td>1.0</td>\n",
       "      <td>NaN</td>\n",
       "      <td>NaN</td>\n",
       "      <td>NaN</td>\n",
       "      <td>0</td>\n",
       "      <td>1.0</td>\n",
       "      <td>0</td>\n",
       "    </tr>\n",
       "    <tr>\n",
       "      <th>114</th>\n",
       "      <td>192149647</td>\n",
       "      <td>1</td>\n",
       "      <td>79879795</td>\n",
       "      <td>Germany</td>\n",
       "      <td>2012-11-24</td>\n",
       "      <td>2012-11-24</td>\n",
       "      <td>2.0</td>\n",
       "      <td>NaN</td>\n",
       "      <td>49.0</td>\n",
       "      <td>1.0</td>\n",
       "      <td>0</td>\n",
       "      <td>1.0</td>\n",
       "      <td>16</td>\n",
       "    </tr>\n",
       "    <tr>\n",
       "      <th>838</th>\n",
       "      <td>339661291</td>\n",
       "      <td>0</td>\n",
       "      <td>853665252</td>\n",
       "      <td>United States</td>\n",
       "      <td>2017-09-18</td>\n",
       "      <td>2017-09-23</td>\n",
       "      <td>NaN</td>\n",
       "      <td>NaN</td>\n",
       "      <td>NaN</td>\n",
       "      <td>NaN</td>\n",
       "      <td>0</td>\n",
       "      <td>1.0</td>\n",
       "      <td>0</td>\n",
       "    </tr>\n",
       "    <tr>\n",
       "      <th>443</th>\n",
       "      <td>818245327</td>\n",
       "      <td>0</td>\n",
       "      <td>705536932</td>\n",
       "      <td>Kenya</td>\n",
       "      <td>2016-12-27</td>\n",
       "      <td>2016-12-27</td>\n",
       "      <td>2.0</td>\n",
       "      <td>NaN</td>\n",
       "      <td>NaN</td>\n",
       "      <td>NaN</td>\n",
       "      <td>0</td>\n",
       "      <td>29.0</td>\n",
       "      <td>0</td>\n",
       "    </tr>\n",
       "  </tbody>\n",
       "</table>\n",
       "</div>"
      ],
      "text/plain": [
       "     request_id  confirmed  client_id          nation arrival_date  \\\n",
       "948    14048210          0  375379160   United States   2018-08-24   \n",
       "286   600747042          1  679099458   United States   2017-03-31   \n",
       "871   876447691          0  429656690         Lebanon   2015-09-25   \n",
       "764   305074688          0  126549082   United States   2017-04-15   \n",
       "933   513898316          1  914879649  United Kingdom   2015-09-09   \n",
       "29    424779327          0  831621314         Germany   2016-01-23   \n",
       "46    899418575          0  583708263       Australia   2013-09-02   \n",
       "114   192149647          1   79879795         Germany   2012-11-24   \n",
       "838   339661291          0  853665252   United States   2017-09-18   \n",
       "443   818245327          0  705536932           Kenya   2016-12-27   \n",
       "\n",
       "    departure_date  num_of_adults  num_of_children  price  currency_id  \\\n",
       "948     2018-09-02            2.0              NaN    NaN          NaN   \n",
       "286     2017-04-08            2.0              NaN   80.0          2.0   \n",
       "871     2015-09-30            1.0              NaN    NaN          NaN   \n",
       "764     2017-04-15            2.0              1.0    NaN          NaN   \n",
       "933     2015-09-15            2.0              NaN    9.0          4.0   \n",
       "29      2016-01-30            NaN              NaN    NaN          NaN   \n",
       "46      2013-09-16            1.0              NaN    NaN          NaN   \n",
       "114     2012-11-24            2.0              NaN   49.0          1.0   \n",
       "838     2017-09-23            NaN              NaN    NaN          NaN   \n",
       "443     2016-12-27            2.0              NaN    NaN          NaN   \n",
       "\n",
       "     adwords  source_id  sub_id  \n",
       "948        0       29.0       0  \n",
       "286        1        1.0      39  \n",
       "871        0        1.0       0  \n",
       "764        0        1.0       0  \n",
       "933        1        1.0      39  \n",
       "29         0       93.0      17  \n",
       "46         0        1.0       0  \n",
       "114        0        1.0      16  \n",
       "838        0        1.0       0  \n",
       "443        0       29.0       0  "
      ]
     },
     "execution_count": 2,
     "metadata": {},
     "output_type": "execute_result"
    }
   ],
   "source": [
    "df = pd.read_csv('sampled.csv')\n",
    "df.sample(10)"
   ]
  },
  {
   "cell_type": "code",
   "execution_count": 4,
   "metadata": {},
   "outputs": [
    {
     "data": {
      "text/plain": [
       "(1000, 13)"
      ]
     },
     "execution_count": 4,
     "metadata": {},
     "output_type": "execute_result"
    }
   ],
   "source": [
    "df.shape"
   ]
  },
  {
   "cell_type": "markdown",
   "metadata": {},
   "source": [
    "### 2. Data Understanding"
   ]
  },
  {
   "cell_type": "code",
   "execution_count": 114,
   "metadata": {},
   "outputs": [
    {
     "data": {
      "text/plain": [
       "<Figure size 1800x1080 with 0 Axes>"
      ]
     },
     "metadata": {},
     "output_type": "display_data"
    },
    {
     "data": {
      "image/png": "[encoded data removed]",
      "text/plain": [
       "<Figure size 432x288 with 12 Axes>"
      ]
     },
     "metadata": {},
     "output_type": "display_data"
    }
   ],
   "source": [
    "figure(figsize=(25,15))\n",
    "df.hist();"
   ]
  },
  {
   "cell_type": "markdown",
   "metadata": {},
   "source": [
    "Which columns had no missing values?"
   ]
  },
  {
   "cell_type": "code",
   "execution_count": 13,
   "metadata": {},
   "outputs": [
    {
     "data": {
      "text/plain": [
       "{'adwords', 'client_id', 'confirmed', 'nation', 'request_id', 'sub_id'}"
      ]
     },
     "execution_count": 13,
     "metadata": {},
     "output_type": "execute_result"
    }
   ],
   "source": [
    "no_nulls = set(df.columns[df.isna().sum() == 0])\n",
    "no_nulls"
   ]
  },
  {
   "cell_type": "markdown",
   "metadata": {},
   "source": [
    "Which columns have the most missing values?"
   ]
  },
  {
   "cell_type": "code",
   "execution_count": 17,
   "metadata": {},
   "outputs": [
    {
     "data": {
      "text/plain": [
       "{'currency_id', 'num_of_children', 'price'}"
      ]
     },
     "execution_count": 17,
     "metadata": {},
     "output_type": "execute_result"
    }
   ],
   "source": [
    "most_missing_values = set(df.columns[df.isna().mean() > 0.6])\n",
    "most_missing_values"
   ]
  },
  {
   "cell_type": "markdown",
   "metadata": {},
   "source": [
    "##### We can find the ten top nationalities that make requests in general"
   ]
  },
  {
   "cell_type": "code",
   "execution_count": 5,
   "metadata": {},
   "outputs": [
    {
     "data": {
      "image/png": "[encoded data removed]",
      "text/plain": [
       "<Figure size 1440x576 with 1 Axes>"
      ]
     },
     "metadata": {},
     "output_type": "display_data"
    }
   ],
   "source": [
    "figure(figsize=(20,8))\n",
    "top_nationalities_values = df.nation.value_counts()[:10]\n",
    "(top_nationalities_values/df.shape[0]).plot(kind='bar');\n",
    "plt.title('Top Ten Nationalities');\n",
    "plt.xticks(rotation=90);"
   ]
  },
  {
   "cell_type": "code",
   "execution_count": 6,
   "metadata": {},
   "outputs": [],
   "source": [
    "top_nationalities = list(df.nation.value_counts().index[:10])\n",
    "top_nationalities_df = df[df['nation'].isin(top_nationalities)]"
   ]
  },
  {
   "cell_type": "markdown",
   "metadata": {},
   "source": [
    "##### We can find from the top ten nations, which nation get the most confirmed cases"
   ]
  },
  {
   "cell_type": "code",
   "execution_count": 25,
   "metadata": {},
   "outputs": [
    {
     "data": {
      "text/plain": [
       "Text(0.5, 1.0, 'Top Ten Nationalities Confirmed Cases')"
      ]
     },
     "execution_count": 25,
     "metadata": {},
     "output_type": "execute_result"
    },
    {
     "data": {
      "image/png": "[encoded data removed]",
      "text/plain": [
       "<Figure size 1440x576 with 1 Axes>"
      ]
     },
     "metadata": {},
     "output_type": "display_data"
    }
   ],
   "source": [
    "figure(figsize=(20,8))\n",
    "ax = sb.countplot(data=top_nationalities_df, x=top_nationalities_df.nation, hue='confirmed', order=top_nationalities);\n",
    "plt.xticks(rotation=90);\n",
    "plt.title('Top Ten Nationalities Confirmed Cases')"
   ]
  },
  {
   "cell_type": "code",
   "execution_count": 11,
   "metadata": {},
   "outputs": [
    {
     "data": {
      "image/png": "[encoded data removed]",
      "text/plain": [
       "<Figure size 432x288 with 1 Axes>"
      ]
     },
     "metadata": {},
     "output_type": "display_data"
    }
   ],
   "source": [
    "(df.confirmed.value_counts() / df.shape[0]).plot(kind='bar');\n",
    "plt.title('Confirmed Requests');"
   ]
  },
  {
   "cell_type": "code",
   "execution_count": 13,
   "metadata": {},
   "outputs": [
    {
     "data": {
      "image/png": "[encoded data removed]",
      "text/plain": [
       "<Figure size 432x288 with 1 Axes>"
      ]
     },
     "metadata": {},
     "output_type": "display_data"
    }
   ],
   "source": [
    "(df.adwords.value_counts() / df.shape[0]).plot(kind='bar');\n",
    "plt.title('Requests from an Online Advertisments');"
   ]
  },
  {
   "cell_type": "markdown",
   "metadata": {},
   "source": [
    "### 3. Prepare Data"
   ]
  },
  {
   "cell_type": "markdown",
   "metadata": {},
   "source": [
    "Change two date columns from `object` to `date` data type"
   ]
  },
  {
   "cell_type": "code",
   "execution_count": 14,
   "metadata": {},
   "outputs": [],
   "source": [
    "df_cleaned = df.copy()"
   ]
  },
  {
   "cell_type": "code",
   "execution_count": 15,
   "metadata": {},
   "outputs": [],
   "source": [
    "df_cleaned['arrival_date'] =  pd.to_datetime(df_cleaned['arrival_date'], format='%Y-%m-%d')\n",
    "df_cleaned['departure_date'] =  pd.to_datetime(df_cleaned['departure_date'], format='%Y-%m-%d')"
   ]
  },
  {
   "cell_type": "markdown",
   "metadata": {},
   "source": [
    "Impute date missing values with most occuring dates"
   ]
  },
  {
   "cell_type": "code",
   "execution_count": 16,
   "metadata": {},
   "outputs": [],
   "source": [
    "df_cleaned['arrival_date'].replace([np.nan], [df_cleaned.arrival_date.mode()], inplace=True)\n",
    "df_cleaned['departure_date'].replace([np.nan], [df_cleaned.departure_date.mode()], inplace=True)"
   ]
  },
  {
   "cell_type": "markdown",
   "metadata": {},
   "source": [
    "Feature engineer a new column `Duration` that indicates how many days does requester tends to stay"
   ]
  },
  {
   "cell_type": "code",
   "execution_count": 17,
   "metadata": {},
   "outputs": [],
   "source": [
    "df_cleaned['Duration'] = (df_cleaned['departure_date'] - df_cleaned['arrival_date']).dt.days"
   ]
  },
  {
   "cell_type": "code",
   "execution_count": 87,
   "metadata": {},
   "outputs": [
    {
     "data": {
      "text/html": [
       "<div>\n",
       "<style scoped>\n",
       "    .dataframe tbody tr th:only-of-type {\n",
       "        vertical-align: middle;\n",
       "    }\n",
       "\n",
       "    .dataframe tbody tr th {\n",
       "        vertical-align: top;\n",
       "    }\n",
       "\n",
       "    .dataframe thead th {\n",
       "        text-align: right;\n",
       "    }\n",
       "</style>\n",
       "<table border=\"1\" class=\"dataframe\">\n",
       "  <thead>\n",
       "    <tr style=\"text-align: right;\">\n",
       "      <th></th>\n",
       "      <th>request_id</th>\n",
       "      <th>confirmed</th>\n",
       "      <th>client_id</th>\n",
       "      <th>nation</th>\n",
       "      <th>arrival_date</th>\n",
       "      <th>departure_date</th>\n",
       "      <th>num_of_adults</th>\n",
       "      <th>num_of_children</th>\n",
       "      <th>price</th>\n",
       "      <th>currency_id</th>\n",
       "      <th>adwords</th>\n",
       "      <th>source_id</th>\n",
       "      <th>sub_id</th>\n",
       "      <th>Duration</th>\n",
       "    </tr>\n",
       "  </thead>\n",
       "  <tbody>\n",
       "    <tr>\n",
       "      <th>0</th>\n",
       "      <td>806181796</td>\n",
       "      <td>0</td>\n",
       "      <td>123420484</td>\n",
       "      <td>Germany</td>\n",
       "      <td>2016-12-26</td>\n",
       "      <td>2017-01-02</td>\n",
       "      <td>2.0</td>\n",
       "      <td>NaN</td>\n",
       "      <td>NaN</td>\n",
       "      <td>NaN</td>\n",
       "      <td>0</td>\n",
       "      <td>99.0</td>\n",
       "      <td>0</td>\n",
       "      <td>7.0</td>\n",
       "    </tr>\n",
       "    <tr>\n",
       "      <th>1</th>\n",
       "      <td>38700156</td>\n",
       "      <td>0</td>\n",
       "      <td>839911394</td>\n",
       "      <td>Chile</td>\n",
       "      <td>2012-10-17</td>\n",
       "      <td>2012-10-24</td>\n",
       "      <td>2.0</td>\n",
       "      <td>NaN</td>\n",
       "      <td>NaN</td>\n",
       "      <td>NaN</td>\n",
       "      <td>0</td>\n",
       "      <td>29.0</td>\n",
       "      <td>17</td>\n",
       "      <td>7.0</td>\n",
       "    </tr>\n",
       "    <tr>\n",
       "      <th>2</th>\n",
       "      <td>992039421</td>\n",
       "      <td>0</td>\n",
       "      <td>62928855</td>\n",
       "      <td>United Kingdom</td>\n",
       "      <td>2016-05-15</td>\n",
       "      <td>2016-05-18</td>\n",
       "      <td>5.0</td>\n",
       "      <td>NaN</td>\n",
       "      <td>NaN</td>\n",
       "      <td>NaN</td>\n",
       "      <td>0</td>\n",
       "      <td>1.0</td>\n",
       "      <td>0</td>\n",
       "      <td>3.0</td>\n",
       "    </tr>\n",
       "    <tr>\n",
       "      <th>3</th>\n",
       "      <td>625114613</td>\n",
       "      <td>0</td>\n",
       "      <td>374952733</td>\n",
       "      <td>Argentina</td>\n",
       "      <td>2018-03-17</td>\n",
       "      <td>2018-03-17</td>\n",
       "      <td>2.0</td>\n",
       "      <td>NaN</td>\n",
       "      <td>NaN</td>\n",
       "      <td>NaN</td>\n",
       "      <td>0</td>\n",
       "      <td>94.0</td>\n",
       "      <td>8</td>\n",
       "      <td>0.0</td>\n",
       "    </tr>\n",
       "    <tr>\n",
       "      <th>4</th>\n",
       "      <td>647445179</td>\n",
       "      <td>0</td>\n",
       "      <td>600861297</td>\n",
       "      <td>Chile</td>\n",
       "      <td>2013-01-13</td>\n",
       "      <td>2013-01-13</td>\n",
       "      <td>NaN</td>\n",
       "      <td>NaN</td>\n",
       "      <td>NaN</td>\n",
       "      <td>NaN</td>\n",
       "      <td>0</td>\n",
       "      <td>5.0</td>\n",
       "      <td>0</td>\n",
       "      <td>0.0</td>\n",
       "    </tr>\n",
       "  </tbody>\n",
       "</table>\n",
       "</div>"
      ],
      "text/plain": [
       "   request_id  confirmed  client_id          nation arrival_date  \\\n",
       "0   806181796          0  123420484         Germany   2016-12-26   \n",
       "1    38700156          0  839911394           Chile   2012-10-17   \n",
       "2   992039421          0   62928855  United Kingdom   2016-05-15   \n",
       "3   625114613          0  374952733       Argentina   2018-03-17   \n",
       "4   647445179          0  600861297           Chile   2013-01-13   \n",
       "\n",
       "  departure_date  num_of_adults  num_of_children  price  currency_id  adwords  \\\n",
       "0     2017-01-02            2.0              NaN    NaN          NaN        0   \n",
       "1     2012-10-24            2.0              NaN    NaN          NaN        0   \n",
       "2     2016-05-18            5.0              NaN    NaN          NaN        0   \n",
       "3     2018-03-17            2.0              NaN    NaN          NaN        0   \n",
       "4     2013-01-13            NaN              NaN    NaN          NaN        0   \n",
       "\n",
       "   source_id  sub_id  Duration  \n",
       "0       99.0       0       7.0  \n",
       "1       29.0      17       7.0  \n",
       "2        1.0       0       3.0  \n",
       "3       94.0       8       0.0  \n",
       "4        5.0       0       0.0  "
      ]
     },
     "execution_count": 87,
     "metadata": {},
     "output_type": "execute_result"
    }
   ],
   "source": [
    "df_cleaned.head()"
   ]
  },
  {
   "cell_type": "code",
   "execution_count": 88,
   "metadata": {},
   "outputs": [
    {
     "data": {
      "text/html": [
       "<div>\n",
       "<style scoped>\n",
       "    .dataframe tbody tr th:only-of-type {\n",
       "        vertical-align: middle;\n",
       "    }\n",
       "\n",
       "    .dataframe tbody tr th {\n",
       "        vertical-align: top;\n",
       "    }\n",
       "\n",
       "    .dataframe thead th {\n",
       "        text-align: right;\n",
       "    }\n",
       "</style>\n",
       "<table border=\"1\" class=\"dataframe\">\n",
       "  <thead>\n",
       "    <tr style=\"text-align: right;\">\n",
       "      <th></th>\n",
       "      <th>request_id</th>\n",
       "      <th>confirmed</th>\n",
       "      <th>client_id</th>\n",
       "      <th>num_of_adults</th>\n",
       "      <th>num_of_children</th>\n",
       "      <th>price</th>\n",
       "      <th>currency_id</th>\n",
       "      <th>adwords</th>\n",
       "      <th>source_id</th>\n",
       "      <th>sub_id</th>\n",
       "      <th>Duration</th>\n",
       "    </tr>\n",
       "  </thead>\n",
       "  <tbody>\n",
       "    <tr>\n",
       "      <th>count</th>\n",
       "      <td>1.000000e+03</td>\n",
       "      <td>1000.000000</td>\n",
       "      <td>1.000000e+03</td>\n",
       "      <td>780.000000</td>\n",
       "      <td>113.000000</td>\n",
       "      <td>329.000000</td>\n",
       "      <td>329.000000</td>\n",
       "      <td>1000.000000</td>\n",
       "      <td>986.000000</td>\n",
       "      <td>1000.000000</td>\n",
       "      <td>974.000000</td>\n",
       "    </tr>\n",
       "    <tr>\n",
       "      <th>mean</th>\n",
       "      <td>5.112927e+08</td>\n",
       "      <td>0.325000</td>\n",
       "      <td>5.059396e+08</td>\n",
       "      <td>2.796154</td>\n",
       "      <td>2.433628</td>\n",
       "      <td>49.112462</td>\n",
       "      <td>2.006079</td>\n",
       "      <td>0.164000</td>\n",
       "      <td>42.561866</td>\n",
       "      <td>15.018000</td>\n",
       "      <td>4.207392</td>\n",
       "    </tr>\n",
       "    <tr>\n",
       "      <th>std</th>\n",
       "      <td>2.840683e+08</td>\n",
       "      <td>0.468609</td>\n",
       "      <td>2.882389e+08</td>\n",
       "      <td>8.185321</td>\n",
       "      <td>9.857807</td>\n",
       "      <td>27.724518</td>\n",
       "      <td>0.728320</td>\n",
       "      <td>0.370461</td>\n",
       "      <td>44.400790</td>\n",
       "      <td>18.637033</td>\n",
       "      <td>13.916286</td>\n",
       "    </tr>\n",
       "    <tr>\n",
       "      <th>min</th>\n",
       "      <td>1.350906e+06</td>\n",
       "      <td>0.000000</td>\n",
       "      <td>3.026870e+05</td>\n",
       "      <td>0.000000</td>\n",
       "      <td>0.000000</td>\n",
       "      <td>1.000000</td>\n",
       "      <td>1.000000</td>\n",
       "      <td>0.000000</td>\n",
       "      <td>1.000000</td>\n",
       "      <td>0.000000</td>\n",
       "      <td>-352.000000</td>\n",
       "    </tr>\n",
       "    <tr>\n",
       "      <th>25%</th>\n",
       "      <td>2.671576e+08</td>\n",
       "      <td>0.000000</td>\n",
       "      <td>2.515670e+08</td>\n",
       "      <td>2.000000</td>\n",
       "      <td>1.000000</td>\n",
       "      <td>25.000000</td>\n",
       "      <td>2.000000</td>\n",
       "      <td>0.000000</td>\n",
       "      <td>1.000000</td>\n",
       "      <td>0.000000</td>\n",
       "      <td>0.000000</td>\n",
       "    </tr>\n",
       "    <tr>\n",
       "      <th>50%</th>\n",
       "      <td>5.190409e+08</td>\n",
       "      <td>0.000000</td>\n",
       "      <td>5.169784e+08</td>\n",
       "      <td>2.000000</td>\n",
       "      <td>1.000000</td>\n",
       "      <td>50.000000</td>\n",
       "      <td>2.000000</td>\n",
       "      <td>0.000000</td>\n",
       "      <td>29.000000</td>\n",
       "      <td>15.000000</td>\n",
       "      <td>3.000000</td>\n",
       "    </tr>\n",
       "    <tr>\n",
       "      <th>75%</th>\n",
       "      <td>7.548263e+08</td>\n",
       "      <td>1.000000</td>\n",
       "      <td>7.588429e+08</td>\n",
       "      <td>2.000000</td>\n",
       "      <td>2.000000</td>\n",
       "      <td>73.000000</td>\n",
       "      <td>2.000000</td>\n",
       "      <td>0.000000</td>\n",
       "      <td>87.000000</td>\n",
       "      <td>17.000000</td>\n",
       "      <td>7.000000</td>\n",
       "    </tr>\n",
       "    <tr>\n",
       "      <th>max</th>\n",
       "      <td>9.988137e+08</td>\n",
       "      <td>1.000000</td>\n",
       "      <td>9.982175e+08</td>\n",
       "      <td>222.000000</td>\n",
       "      <td>106.000000</td>\n",
       "      <td>99.000000</td>\n",
       "      <td>4.000000</td>\n",
       "      <td>1.000000</td>\n",
       "      <td>225.000000</td>\n",
       "      <td>169.000000</td>\n",
       "      <td>153.000000</td>\n",
       "    </tr>\n",
       "  </tbody>\n",
       "</table>\n",
       "</div>"
      ],
      "text/plain": [
       "         request_id    confirmed     client_id  num_of_adults  \\\n",
       "count  1.000000e+03  1000.000000  1.000000e+03     780.000000   \n",
       "mean   5.112927e+08     0.325000  5.059396e+08       2.796154   \n",
       "std    2.840683e+08     0.468609  2.882389e+08       8.185321   \n",
       "min    1.350906e+06     0.000000  3.026870e+05       0.000000   \n",
       "25%    2.671576e+08     0.000000  2.515670e+08       2.000000   \n",
       "50%    5.190409e+08     0.000000  5.169784e+08       2.000000   \n",
       "75%    7.548263e+08     1.000000  7.588429e+08       2.000000   \n",
       "max    9.988137e+08     1.000000  9.982175e+08     222.000000   \n",
       "\n",
       "       num_of_children       price  currency_id      adwords   source_id  \\\n",
       "count       113.000000  329.000000   329.000000  1000.000000  986.000000   \n",
       "mean          2.433628   49.112462     2.006079     0.164000   42.561866   \n",
       "std           9.857807   27.724518     0.728320     0.370461   44.400790   \n",
       "min           0.000000    1.000000     1.000000     0.000000    1.000000   \n",
       "25%           1.000000   25.000000     2.000000     0.000000    1.000000   \n",
       "50%           1.000000   50.000000     2.000000     0.000000   29.000000   \n",
       "75%           2.000000   73.000000     2.000000     0.000000   87.000000   \n",
       "max         106.000000   99.000000     4.000000     1.000000  225.000000   \n",
       "\n",
       "            sub_id    Duration  \n",
       "count  1000.000000  974.000000  \n",
       "mean     15.018000    4.207392  \n",
       "std      18.637033   13.916286  \n",
       "min       0.000000 -352.000000  \n",
       "25%       0.000000    0.000000  \n",
       "50%      15.000000    3.000000  \n",
       "75%      17.000000    7.000000  \n",
       "max     169.000000  153.000000  "
      ]
     },
     "execution_count": 88,
     "metadata": {},
     "output_type": "execute_result"
    }
   ],
   "source": [
    "df_cleaned.describe()"
   ]
  },
  {
   "cell_type": "markdown",
   "metadata": {},
   "source": [
    "From the above table we can find that\n",
    "\n",
    "- That this is not a balanced dataset, since our label is skewed towards not confirmed by 67%\n",
    "- The number of missing data is huge in num_of_children column only 11.3% available therefore will not provide intersting\n",
    "  insights so I will drop it\n",
    "- Also for price and curency_id 67.1% of data is missing so we have to choose wheter to impute or drop these columns also\n",
    "- curency_id will be dropped since nation and type of currency are logically related therefore will be dropped\n",
    "- request_id and client_id will be dropped as they are useless information for analysis"
   ]
  },
  {
   "cell_type": "code",
   "execution_count": 18,
   "metadata": {},
   "outputs": [],
   "source": [
    "df_cleaned.drop(columns=['num_of_children', 'client_id', 'request_id', 'source_id', 'currency_id'], inplace=True)"
   ]
  },
  {
   "cell_type": "markdown",
   "metadata": {},
   "source": [
    "Impute missing values of num_of_adults data with the mean to make use of its information "
   ]
  },
  {
   "cell_type": "code",
   "execution_count": 19,
   "metadata": {},
   "outputs": [],
   "source": [
    "df_cleaned['num_of_adults'].replace([np.nan], [df_cleaned.num_of_adults.mode()], inplace=True)\n",
    "df_cleaned['num_of_adults'] = df_cleaned['num_of_adults'].astype('int64')"
   ]
  },
  {
   "cell_type": "markdown",
   "metadata": {},
   "source": [
    "Around 68% of the number of adults who are travelling in the group where requests are made are two "
   ]
  },
  {
   "cell_type": "code",
   "execution_count": 20,
   "metadata": {},
   "outputs": [
    {
     "data": {
      "image/png": "[encoded data removed]",
      "text/plain": [
       "<Figure size 1008x360 with 1 Axes>"
      ]
     },
     "metadata": {},
     "output_type": "display_data"
    }
   ],
   "source": [
    "figure(figsize=(14,5))\n",
    "alone = df_cleaned.num_of_adults[df_cleaned.num_of_adults == 1].sum()\n",
    "groups = df_cleaned.num_of_adults[df_cleaned.num_of_adults >= 2].sum()\n",
    "\n",
    "(pd.Series([alone, groups], index=['Alone', 'Groups'])/df_cleaned.shape[0]).plot(kind='pie');\n",
    "plt.title('Groups and Alone Proportions');\n",
    "plt.xticks(rotation=0);\n",
    "plt.ylabel('');"
   ]
  },
  {
   "cell_type": "markdown",
   "metadata": {},
   "source": [
    "Make a new column that indicates if client is travelling alone or in a group"
   ]
  },
  {
   "cell_type": "code",
   "execution_count": 90,
   "metadata": {},
   "outputs": [],
   "source": [
    "df_cleaned['In_Groups'] = (df_cleaned.num_of_adults >= 2).replace({True: 1, False: 0})"
   ]
  },
  {
   "cell_type": "code",
   "execution_count": 92,
   "metadata": {},
   "outputs": [
    {
     "data": {
      "image/png": "[encoded data removed]",
      "text/plain": [
       "<Figure size 432x288 with 1 Axes>"
      ]
     },
     "metadata": {},
     "output_type": "display_data"
    }
   ],
   "source": [
    "ax = sb.countplot(data=df_cleaned, x=df_cleaned.In_Groups, hue='confirmed');\n",
    "plt.title('Travelling in Groups Confirmed Cases');"
   ]
  },
  {
   "cell_type": "markdown",
   "metadata": {},
   "source": [
    "Impute missing values of price data with mean to make use of its information "
   ]
  },
  {
   "cell_type": "code",
   "execution_count": 99,
   "metadata": {},
   "outputs": [],
   "source": [
    "df_cleaned['price'].replace([np.nan], [df_cleaned.price.mean()], inplace=True)\n",
    "df_cleaned['price'] = df_cleaned['price'].astype('int64')"
   ]
  },
  {
   "cell_type": "code",
   "execution_count": 229,
   "metadata": {},
   "outputs": [
    {
     "data": {
      "image/png": "[encoded data removed]",
      "text/plain": [
       "<Figure size 432x288 with 2 Axes>"
      ]
     },
     "metadata": {},
     "output_type": "display_data"
    }
   ],
   "source": [
    "# Figuring out how data is correlated with each other and with the target label after imputing missing values\n",
    "sb.heatmap(df_cleaned[['confirmed', 'price']].corr(), annot=True, cmap=\"YlGnBu\");"
   ]
  },
  {
   "cell_type": "markdown",
   "metadata": {},
   "source": [
    "##### Duration"
   ]
  },
  {
   "cell_type": "markdown",
   "metadata": {},
   "source": [
    "Swap below incorrect arrival and duration date"
   ]
  },
  {
   "cell_type": "code",
   "execution_count": 163,
   "metadata": {},
   "outputs": [
    {
     "data": {
      "text/html": [
       "<div>\n",
       "<style scoped>\n",
       "    .dataframe tbody tr th:only-of-type {\n",
       "        vertical-align: middle;\n",
       "    }\n",
       "\n",
       "    .dataframe tbody tr th {\n",
       "        vertical-align: top;\n",
       "    }\n",
       "\n",
       "    .dataframe thead th {\n",
       "        text-align: right;\n",
       "    }\n",
       "</style>\n",
       "<table border=\"1\" class=\"dataframe\">\n",
       "  <thead>\n",
       "    <tr style=\"text-align: right;\">\n",
       "      <th></th>\n",
       "      <th>confirmed</th>\n",
       "      <th>nation</th>\n",
       "      <th>arrival_date</th>\n",
       "      <th>departure_date</th>\n",
       "      <th>num_of_adults</th>\n",
       "      <th>price</th>\n",
       "      <th>adwords</th>\n",
       "      <th>Duration</th>\n",
       "    </tr>\n",
       "  </thead>\n",
       "  <tbody>\n",
       "    <tr>\n",
       "      <th>42</th>\n",
       "      <td>0</td>\n",
       "      <td>Italy</td>\n",
       "      <td>2012-12-29</td>\n",
       "      <td>2012-12-01</td>\n",
       "      <td>1</td>\n",
       "      <td>49</td>\n",
       "      <td>0</td>\n",
       "      <td>-28</td>\n",
       "    </tr>\n",
       "    <tr>\n",
       "      <th>262</th>\n",
       "      <td>0</td>\n",
       "      <td>Egypt</td>\n",
       "      <td>2016-03-20</td>\n",
       "      <td>2015-04-03</td>\n",
       "      <td>2</td>\n",
       "      <td>49</td>\n",
       "      <td>0</td>\n",
       "      <td>-352</td>\n",
       "    </tr>\n",
       "  </tbody>\n",
       "</table>\n",
       "</div>"
      ],
      "text/plain": [
       "     confirmed nation arrival_date departure_date  num_of_adults  price  \\\n",
       "42           0  Italy   2012-12-29     2012-12-01              1     49   \n",
       "262          0  Egypt   2016-03-20     2015-04-03              2     49   \n",
       "\n",
       "     adwords  Duration  \n",
       "42         0       -28  \n",
       "262        0      -352  "
      ]
     },
     "execution_count": 163,
     "metadata": {},
     "output_type": "execute_result"
    }
   ],
   "source": [
    "df_cleaned[df['arrival_date'] > df['departure_date']]"
   ]
  },
  {
   "cell_type": "code",
   "execution_count": 195,
   "metadata": {},
   "outputs": [],
   "source": [
    "df_cleaned['Duration'] = np.abs(df_cleaned['Duration'])"
   ]
  },
  {
   "cell_type": "code",
   "execution_count": 236,
   "metadata": {},
   "outputs": [],
   "source": [
    "# df.loc[row_index,col_indexer] = value\n",
    "arrival = df_cleaned.loc[42,'arrival_date']\n",
    "departure = df_cleaned.loc[42,'departure_date']\n",
    "\n",
    "df_cleaned.loc[42,'arrival_date'] = departure\n",
    "df_cleaned.loc[42,'departure_date'] = arrival"
   ]
  },
  {
   "cell_type": "code",
   "execution_count": 238,
   "metadata": {},
   "outputs": [],
   "source": [
    "arrival = df_cleaned.loc[262,'arrival_date']\n",
    "departure = df_cleaned.loc[262,'departure_date']\n",
    "\n",
    "df_cleaned.loc[262,'arrival_date'] = departure\n",
    "df_cleaned.loc[262,'departure_date'] = arrival"
   ]
  },
  {
   "cell_type": "markdown",
   "metadata": {},
   "source": [
    "Check if swapped dates correctly`"
   ]
  },
  {
   "cell_type": "code",
   "execution_count": 240,
   "metadata": {},
   "outputs": [
    {
     "data": {
      "text/html": [
       "<div>\n",
       "<style scoped>\n",
       "    .dataframe tbody tr th:only-of-type {\n",
       "        vertical-align: middle;\n",
       "    }\n",
       "\n",
       "    .dataframe tbody tr th {\n",
       "        vertical-align: top;\n",
       "    }\n",
       "\n",
       "    .dataframe thead th {\n",
       "        text-align: right;\n",
       "    }\n",
       "</style>\n",
       "<table border=\"1\" class=\"dataframe\">\n",
       "  <thead>\n",
       "    <tr style=\"text-align: right;\">\n",
       "      <th></th>\n",
       "      <th>confirmed</th>\n",
       "      <th>nation</th>\n",
       "      <th>arrival_date</th>\n",
       "      <th>departure_date</th>\n",
       "      <th>num_of_adults</th>\n",
       "      <th>price</th>\n",
       "      <th>adwords</th>\n",
       "      <th>Duration</th>\n",
       "      <th>Duration_Categories</th>\n",
       "    </tr>\n",
       "  </thead>\n",
       "  <tbody>\n",
       "    <tr>\n",
       "      <th>42</th>\n",
       "      <td>0</td>\n",
       "      <td>Italy</td>\n",
       "      <td>2012-12-01</td>\n",
       "      <td>2012-12-29</td>\n",
       "      <td>1</td>\n",
       "      <td>49</td>\n",
       "      <td>0</td>\n",
       "      <td>28</td>\n",
       "      <td>at most 4 weeks</td>\n",
       "    </tr>\n",
       "    <tr>\n",
       "      <th>262</th>\n",
       "      <td>0</td>\n",
       "      <td>Egypt</td>\n",
       "      <td>2015-04-03</td>\n",
       "      <td>2016-03-20</td>\n",
       "      <td>2</td>\n",
       "      <td>49</td>\n",
       "      <td>0</td>\n",
       "      <td>352</td>\n",
       "      <td>more than a month</td>\n",
       "    </tr>\n",
       "  </tbody>\n",
       "</table>\n",
       "</div>"
      ],
      "text/plain": [
       "     confirmed nation arrival_date departure_date  num_of_adults  price  \\\n",
       "42           0  Italy   2012-12-01     2012-12-29              1     49   \n",
       "262          0  Egypt   2015-04-03     2016-03-20              2     49   \n",
       "\n",
       "     adwords  Duration Duration_Categories  \n",
       "42         0        28     at most 4 weeks  \n",
       "262        0       352   more than a month  "
      ]
     },
     "execution_count": 240,
     "metadata": {},
     "output_type": "execute_result"
    }
   ],
   "source": [
    "df_cleaned.query('Duration==28 or Duration==352')"
   ]
  },
  {
   "cell_type": "markdown",
   "metadata": {},
   "source": [
    "Let's check correlation between duration and confirmed requests"
   ]
  },
  {
   "cell_type": "code",
   "execution_count": 230,
   "metadata": {},
   "outputs": [
    {
     "data": {
      "image/png": "[encoded data removed]",
      "text/plain": [
       "<Figure size 432x288 with 2 Axes>"
      ]
     },
     "metadata": {},
     "output_type": "display_data"
    }
   ],
   "source": [
    "sb.heatmap(df_cleaned[['confirmed', 'Duration']].corr(), annot=True, cmap=\"YlGnBu\");"
   ]
  },
  {
   "cell_type": "code",
   "execution_count": 211,
   "metadata": {},
   "outputs": [],
   "source": [
    "df_cleaned['Duration_Categories'] = pd.cut(df_cleaned['Duration'], bins=[-1, 7, 14, 21, 30, 360] ,\n",
    "                                           labels=['at most 1 week', 'at most 2 weeks',\n",
    "                                                  'at most 3 weeks', 'at most 4 weeks','more than a month'])"
   ]
  },
  {
   "cell_type": "code",
   "execution_count": 212,
   "metadata": {},
   "outputs": [
    {
     "data": {
      "text/html": [
       "<div>\n",
       "<style scoped>\n",
       "    .dataframe tbody tr th:only-of-type {\n",
       "        vertical-align: middle;\n",
       "    }\n",
       "\n",
       "    .dataframe tbody tr th {\n",
       "        vertical-align: top;\n",
       "    }\n",
       "\n",
       "    .dataframe thead th {\n",
       "        text-align: right;\n",
       "    }\n",
       "</style>\n",
       "<table border=\"1\" class=\"dataframe\">\n",
       "  <thead>\n",
       "    <tr style=\"text-align: right;\">\n",
       "      <th></th>\n",
       "      <th>Duration</th>\n",
       "      <th>Duration_Categories</th>\n",
       "    </tr>\n",
       "  </thead>\n",
       "  <tbody>\n",
       "    <tr>\n",
       "      <th>0</th>\n",
       "      <td>7</td>\n",
       "      <td>at most 1 week</td>\n",
       "    </tr>\n",
       "    <tr>\n",
       "      <th>1</th>\n",
       "      <td>7</td>\n",
       "      <td>at most 1 week</td>\n",
       "    </tr>\n",
       "    <tr>\n",
       "      <th>2</th>\n",
       "      <td>3</td>\n",
       "      <td>at most 1 week</td>\n",
       "    </tr>\n",
       "    <tr>\n",
       "      <th>3</th>\n",
       "      <td>0</td>\n",
       "      <td>at most 1 week</td>\n",
       "    </tr>\n",
       "    <tr>\n",
       "      <th>4</th>\n",
       "      <td>0</td>\n",
       "      <td>at most 1 week</td>\n",
       "    </tr>\n",
       "    <tr>\n",
       "      <th>...</th>\n",
       "      <td>...</td>\n",
       "      <td>...</td>\n",
       "    </tr>\n",
       "    <tr>\n",
       "      <th>995</th>\n",
       "      <td>0</td>\n",
       "      <td>at most 1 week</td>\n",
       "    </tr>\n",
       "    <tr>\n",
       "      <th>996</th>\n",
       "      <td>0</td>\n",
       "      <td>at most 1 week</td>\n",
       "    </tr>\n",
       "    <tr>\n",
       "      <th>997</th>\n",
       "      <td>4</td>\n",
       "      <td>at most 1 week</td>\n",
       "    </tr>\n",
       "    <tr>\n",
       "      <th>998</th>\n",
       "      <td>9</td>\n",
       "      <td>at most 2 weeks</td>\n",
       "    </tr>\n",
       "    <tr>\n",
       "      <th>999</th>\n",
       "      <td>0</td>\n",
       "      <td>at most 1 week</td>\n",
       "    </tr>\n",
       "  </tbody>\n",
       "</table>\n",
       "<p>1000 rows × 2 columns</p>\n",
       "</div>"
      ],
      "text/plain": [
       "     Duration Duration_Categories\n",
       "0           7      at most 1 week\n",
       "1           7      at most 1 week\n",
       "2           3      at most 1 week\n",
       "3           0      at most 1 week\n",
       "4           0      at most 1 week\n",
       "..        ...                 ...\n",
       "995         0      at most 1 week\n",
       "996         0      at most 1 week\n",
       "997         4      at most 1 week\n",
       "998         9     at most 2 weeks\n",
       "999         0      at most 1 week\n",
       "\n",
       "[1000 rows x 2 columns]"
      ]
     },
     "execution_count": 212,
     "metadata": {},
     "output_type": "execute_result"
    }
   ],
   "source": [
    "df_cleaned[['Duration', 'Duration_Categories']]"
   ]
  },
  {
   "cell_type": "markdown",
   "metadata": {},
   "source": [
    "Let's check clients like to request which travel duration the most "
   ]
  },
  {
   "cell_type": "code",
   "execution_count": 219,
   "metadata": {},
   "outputs": [
    {
     "data": {
      "image/png": "[encoded data removed]",
      "text/plain": [
       "<Figure size 864x360 with 1 Axes>"
      ]
     },
     "metadata": {},
     "output_type": "display_data"
    }
   ],
   "source": [
    "figure(figsize=(12,5))\n",
    "duration_values = df_cleaned.Duration_Categories.value_counts()[:10]\n",
    "(duration_values/df_cleaned.shape[0]).plot(kind='bar');\n",
    "plt.title('Duration_Categories Proportion');\n",
    "plt.xticks(rotation=0);"
   ]
  },
  {
   "cell_type": "markdown",
   "metadata": {},
   "source": [
    "Let's check clients most confirmed travel durations"
   ]
  },
  {
   "cell_type": "code",
   "execution_count": 225,
   "metadata": {},
   "outputs": [
    {
     "data": {
      "image/png": "[encoded data removed]",
      "text/plain": [
       "<Figure size 1080x432 with 1 Axes>"
      ]
     },
     "metadata": {},
     "output_type": "display_data"
    }
   ],
   "source": [
    "figure(figsize=(15,6))\n",
    "ax = sb.countplot(data=df_cleaned, x=df_cleaned.Duration_Categories, hue='confirmed');\n",
    "plt.xticks(rotation=0);"
   ]
  },
  {
   "cell_type": "code",
   "execution_count": 226,
   "metadata": {},
   "outputs": [
    {
     "name": "stdout",
     "output_type": "stream",
     "text": [
      "<class 'pandas.core.frame.DataFrame'>\n",
      "RangeIndex: 1000 entries, 0 to 999\n",
      "Data columns (total 9 columns):\n",
      " #   Column               Non-Null Count  Dtype         \n",
      "---  ------               --------------  -----         \n",
      " 0   confirmed            1000 non-null   int64         \n",
      " 1   nation               1000 non-null   object        \n",
      " 2   arrival_date         1000 non-null   datetime64[ns]\n",
      " 3   departure_date       1000 non-null   datetime64[ns]\n",
      " 4   num_of_adults        1000 non-null   int64         \n",
      " 5   price                1000 non-null   int64         \n",
      " 6   adwords              1000 non-null   int64         \n",
      " 7   Duration             1000 non-null   int64         \n",
      " 8   Duration_Categories  1000 non-null   category      \n",
      "dtypes: category(1), datetime64[ns](2), int64(5), object(1)\n",
      "memory usage: 63.8+ KB\n"
     ]
    }
   ],
   "source": [
    "df_cleaned.info()"
   ]
  },
  {
   "cell_type": "markdown",
   "metadata": {},
   "source": [
    "##### How well can we predict a clients confirmation"
   ]
  },
  {
   "cell_type": "code",
   "execution_count": null,
   "metadata": {},
   "outputs": [],
   "source": []
  },
  {
   "cell_type": "code",
   "execution_count": null,
   "metadata": {},
   "outputs": [],
   "source": []
  },
  {
   "cell_type": "code",
   "execution_count": null,
   "metadata": {},
   "outputs": [],
   "source": []
  },
  {
   "cell_type": "code",
   "execution_count": null,
   "metadata": {},
   "outputs": [],
   "source": []
  }
 ],
 "metadata": {
  "kernelspec": {
   "display_name": "Python 3",
   "language": "python",
   "name": "python3"
  },
  "language_info": {
   "codemirror_mode": {
    "name": "ipython",
    "version": 3
   },
   "file_extension": ".py",
   "mimetype": "text/x-python",
   "name": "python",
   "nbconvert_exporter": "python",
   "pygments_lexer": "ipython3",
   "version": "3.7.6"
  }
 },
 "nbformat": 4,
 "nbformat_minor": 4
}
